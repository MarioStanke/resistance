{
 "cells": [
  {
   "cell_type": "markdown",
   "metadata": {},
   "source": [
    "# Winning probability of a random strategy\n",
    "On this notebook we compute the probability that the resistance wins the game under a naive random strategy:\n",
    "  1. All players make their decisions independently (of each other and the game history).\n",
    "  2. Spies sabotage with probability 50%.\n",
    "  3. The team leader chooses a team from a uniform distribution on the set of all subsets of players of the 'size' given by the table of the rules."
   ]
  },
  {
   "cell_type": "code",
   "execution_count": 1,
   "metadata": {},
   "outputs": [],
   "source": [
    "from scipy.special import binom"
   ]
  },
  {
   "cell_type": "code",
   "execution_count": 2,
   "metadata": {},
   "outputs": [],
   "source": [
    "N = 5 # number of players\n",
    "R = 3 # number of resistance fighters\n",
    "S = 2 # number of spies in game\n",
    "M = [2, 3, 2, 3, 3] # mission sizes\n",
    "m = len(M) # number of missions"
   ]
  },
  {
   "cell_type": "markdown",
   "metadata": {},
   "source": [
    "## P(mission is won)\n",
    "Let $W$ be the event that the mission is **w**on by the resistance fighers and let *size* be the number of players in the missions team. Then\n",
    "$$P(W) = \\sum_{s=0}^{\\min\\{S, \\text{size}\\}}\n",
    "P(s \\text{ spies in mission}) \\cdot\n",
    "P(W \\,|\\, s \\text{ spies in mission})\n",
    "=\\sum_{s=0}^{\\min\\{S, \\text{size}\\}} \\frac{{S \\choose s} \\cdot {R \\choose\\text{size}-s}}{{N \\choose size}} \\frac{1}{2^s}$$"
   ]
  },
  {
   "cell_type": "code",
   "execution_count": 3,
   "metadata": {},
   "outputs": [],
   "source": [
    "def mission_success_prob (mission_size, verbose = False):\n",
    "    P_W = 0\n",
    "    for s in range (1 + min(S, mission_size)): # s is number of spies in mission\n",
    "        # number of spies in mission (s) has hypergeometric distribution (drawing without replacement)\n",
    "        p_s = binom(S, s) * binom(R, mission_size - s) / binom(N, mission_size)\n",
    "        p_success_given_s = .5 ** s # mission succeeds iff all s spies vote for success\n",
    "        if verbose:\n",
    "            print (\"s=\", s, \"\\tp_s=\", p_s, \"\\tp_success_given_s=\", p_success_given_s)\n",
    "        P_W += p_s * p_success_given_s\n",
    "    return P_W"
   ]
  },
  {
   "cell_type": "code",
   "execution_count": 4,
   "metadata": {},
   "outputs": [
    {
     "name": "stdout",
     "output_type": "stream",
     "text": [
      "s= 0 \tp_s= 0.3 \tp_success_given_s= 1.0\n",
      "s= 1 \tp_s= 0.6 \tp_success_given_s= 0.5\n",
      "s= 2 \tp_s= 0.1 \tp_success_given_s= 0.25\n"
     ]
    },
    {
     "data": {
      "text/plain": [
       "0.625"
      ]
     },
     "execution_count": 4,
     "metadata": {},
     "output_type": "execute_result"
    }
   ],
   "source": [
    "mission_success_prob(2, True)"
   ]
  },
  {
   "cell_type": "code",
   "execution_count": 5,
   "metadata": {},
   "outputs": [
    {
     "name": "stdout",
     "output_type": "stream",
     "text": [
      "s= 0 \tp_s= 0.1 \tp_success_given_s= 1.0\n",
      "s= 1 \tp_s= 0.6 \tp_success_given_s= 0.5\n",
      "s= 2 \tp_s= 0.3 \tp_success_given_s= 0.25\n"
     ]
    },
    {
     "data": {
      "text/plain": [
       "0.47500000000000003"
      ]
     },
     "execution_count": 5,
     "metadata": {},
     "output_type": "execute_result"
    }
   ],
   "source": [
    "mission_success_prob(3, True)"
   ]
  },
  {
   "cell_type": "markdown",
   "metadata": {},
   "source": [
    "## P(game is won)\n",
    "We perform $m$ independent Bernoulli trials with different success probabilities. The game is won for the resistance if at least 3 missions are won by them. "
   ]
  },
  {
   "cell_type": "code",
   "execution_count": 6,
   "metadata": {},
   "outputs": [
    {
     "name": "stdout",
     "output_type": "stream",
     "text": [
      " 7-th winning outcome [1, 1, 1, 0, 0] has probability 0.0511\n",
      "11-th winning outcome [1, 1, 0, 1, 0] has probability 0.0278\n",
      "13-th winning outcome [1, 0, 1, 1, 0] has probability 0.0511\n",
      "14-th winning outcome [0, 1, 1, 1, 0] has probability 0.0278\n",
      "15-th winning outcome [1, 1, 1, 1, 0] has probability 0.0463\n",
      "19-th winning outcome [1, 1, 0, 0, 1] has probability 0.0278\n",
      "21-th winning outcome [1, 0, 1, 0, 1] has probability 0.0511\n",
      "22-th winning outcome [0, 1, 1, 0, 1] has probability 0.0278\n",
      "23-th winning outcome [1, 1, 1, 0, 1] has probability 0.0463\n",
      "25-th winning outcome [1, 0, 0, 1, 1] has probability 0.0278\n",
      "26-th winning outcome [0, 1, 0, 1, 1] has probability 0.0151\n",
      "27-th winning outcome [1, 1, 0, 1, 1] has probability 0.0251\n",
      "28-th winning outcome [0, 0, 1, 1, 1] has probability 0.0278\n",
      "29-th winning outcome [1, 0, 1, 1, 1] has probability 0.0463\n",
      "30-th winning outcome [0, 1, 1, 1, 1] has probability 0.0251\n",
      "31-th winning outcome [1, 1, 1, 1, 1] has probability 0.0419\n",
      "\n",
      "Probability that resistance wins game is 0.56598\n"
     ]
    }
   ],
   "source": [
    "winprob = 0\n",
    "p = [None] * 5\n",
    "a = [None] * 5\n",
    "for outcome_idx in range(2**m): # loop over all outcome combinations of all missions\n",
    "    for j in range(m):\n",
    "        a[j] = int(bool(outcome_idx  & 1 << j)) # j-th bit\n",
    "        p[j] = mission_success_prob(M[j])\n",
    "    if sum(a) >= 3: # more than half of the 5 missions are successes\n",
    "        q = 1.0\n",
    "        for j in range(5):\n",
    "            q *= p[j] ** a[j] * (1. - p[j]) ** (1. - a[j])\n",
    "        print (\"{:2d}-th winning outcome {} has probability {:.4f}\".format(outcome_idx, a, q))\n",
    "        winprob += q\n",
    "                        \n",
    "print (\"\\nProbability that resistance wins game is {:.5f}\".format(winprob))"
   ]
  },
  {
   "cell_type": "code",
   "execution_count": null,
   "metadata": {},
   "outputs": [],
   "source": []
  }
 ],
 "metadata": {
  "kernelspec": {
   "display_name": "Python 3",
   "language": "python",
   "name": "python3"
  },
  "language_info": {
   "codemirror_mode": {
    "name": "ipython",
    "version": 3
   },
   "file_extension": ".py",
   "mimetype": "text/x-python",
   "name": "python",
   "nbconvert_exporter": "python",
   "pygments_lexer": "ipython3",
   "version": "3.8.5"
  }
 },
 "nbformat": 4,
 "nbformat_minor": 4
}
